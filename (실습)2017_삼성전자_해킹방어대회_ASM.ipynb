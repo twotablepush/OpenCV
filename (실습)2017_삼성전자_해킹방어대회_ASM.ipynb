{
  "nbformat": 4,
  "nbformat_minor": 0,
  "metadata": {
    "colab": {
      "provenance": [],
      "authorship_tag": "ABX9TyN8UaEt9Xz82/cVeYzd8qJS",
      "include_colab_link": true
    },
    "kernelspec": {
      "name": "python3",
      "display_name": "Python 3"
    },
    "language_info": {
      "name": "python"
    }
  },
  "cells": [
    {
      "cell_type": "markdown",
      "metadata": {
        "id": "view-in-github",
        "colab_type": "text"
      },
      "source": [
        "<a href=\"https://colab.research.google.com/github/twotablepush/OpenCV/blob/main/(%EC%8B%A4%EC%8A%B5)2017_%EC%82%BC%EC%84%B1%EC%A0%84%EC%9E%90_%ED%95%B4%ED%82%B9%EB%B0%A9%EC%96%B4%EB%8C%80%ED%9A%8C_ASM.ipynb\" target=\"_parent\"><img src=\"https://colab.research.google.com/assets/colab-badge.svg\" alt=\"Open In Colab\"/></a>"
      ]
    },
    {
      "cell_type": "markdown",
      "source": [
        "# 2017 삼성전자 해킹방어대회 ASM 문제 환경 구축\n",
        "\n",
        "*   항목 추가\n",
        "*   항목 추가\n",
        "\n",
        "\n",
        "\n",
        "## 문제의 동작을 확인하기\n",
        "- START 버튼을 누르면 80초 타이머가 동작한다.\n",
        "- Captcha와 같은 형태로 수식이 등장하며, 이를 반복적으로 풀어야 한다.\n",
        "- 80초 안에 100개의 수식에 대하여 연속적으로 정답 처리를 받아야 한다.\n",
        "\n",
        "## 문제 해경 방법\n",
        "- 특정한 수식 사진을 OpenCV로 처리하여, 각 문자를 하나씩 분리\n",
        "- 분리된 각 문자가 어떤 문자에 해당하는지 인식\n",
        "- 인식된 수식을 계산하여 정답을 도\n",
        "\n",
        "## 데이터 수집하기\n",
        "- 데이터의 개수가 적으므로 브라우저로 직접 수집한다.\n",
        "- 가능한 12개의 문자 : 0, 1, 2, 3, 4, 5, 6, 7, 8, 9, +, -, *\n",
        "\n",
        "# 데이터 분석하기\n",
        "- 파란색 : RGB에서 B의 값이 항상 FF = 255\n",
        "- 초록색 : RGB에서 G의 값이 항상 FF\n",
        "- 빨간색 : RGB에서 R의 값이 항상 FF\n",
        "- 파란색 & 초록색 : RGB에서 R 값이 항상 AA 이하 = 170\n",
        "- 파란색 & 빨간색 : RGB에서 G 값이 항상 AA 이하\n",
        "- 초록색 & 빨간색 : RGB에서 B 값이 항상 AA 이하\n",
        "  \n",
        "\n"
      ],
      "metadata": {
        "id": "jzgmeweZsGKv"
      }
    },
    {
      "cell_type": "code",
      "source": [
        "# 데이터 정제하기\n",
        "# 색상별로 이미지 추출 (utils.py)\n",
        "BLUE = 0\n",
        "GREEN = 1\n",
        "RED = 2\n",
        "\n",
        "\n",
        "# 특정한 색상의 모든 단어가 포함된 이미지를 추출한다.\n",
        "def get_chars(image, color):  # 만약 color이 Blue 라면\n",
        "  other_1 = (color + 1) % 3   # other_1 = Green\n",
        "  other_2 = (color + 2) % 3   # other_2 = Red\n",
        "\n",
        "  c = image[:, :, other_1] == 255\n",
        "  image[c] = [0, 0, 0]  # 검정색으로 변환\n",
        "  c = image[:, :, other_2] == 255\n",
        "  image[c] = [0, 0, 0]\n",
        "  c = image[:, :, color] < 130  # 선택한 색상(Blue)의 색상이 170 = AA보다 작다면 즉 Green과 Red가 섞인 부분\n",
        "  image[c] = [0, 0, 0]\n",
        "  c = image[:, :, color] != 0 # 남은 Blue\n",
        "  image[c] = [255, 255, 255]  # 하얀색으로 변환\n",
        "\n",
        "  return image"
      ],
      "metadata": {
        "id": "4-iF2LNAyMN-"
      },
      "execution_count": null,
      "outputs": []
    },
    {
      "cell_type": "code",
      "source": [
        "# 테스트 코드 (test.py)\n",
        "\n",
        "import cv2\n",
        "import utils\n",
        "\n",
        "image = cv2.imread(\"stage3.png\", cv2.IMREAD_COLOR)\n",
        "blue = utils.get_chars(image.copy(), utils.BLUE)\n",
        "green = utils.get_chars(image.copy(), utils.GREEN)\n",
        "red = utils.get_chars(image.copy(), utils.RED)\n",
        "cv2.imshow(\"Image Gray\", blue)\n",
        "cv2.waitKey(0)\n",
        "cv2.imshow(\"Image Gray\", green)\n",
        "cv2.waitKey(0)\n",
        "cv2.imshow(\"Image Gray\", red)\n",
        "cv2.waitKey(0)"
      ],
      "metadata": {
        "id": "ykzH6puO4ShR"
      },
      "execution_count": null,
      "outputs": []
    },
    {
      "cell_type": "code",
      "source": [
        "# 트레이닝 데이터 만들기\n",
        "# 전체 이미지에서 왼쪽부터 단어별로 추출 (utils.py)\n",
        "# 전체 이미지에서 왼쪽부터 단어별로 이미지를 추출\n",
        "import cv2\n",
        "\n",
        "def extract_chars(image):\n",
        "    chars = []\n",
        "    colors = [BLUE, GREEN, RED]\n",
        "    for color in colors:\n",
        "        image_from_one_color = get_chars(image.copy(), color)\n",
        "        image_gray = cv2.cvtColor(image_from_one_color, cv2.COLOR_BGR2GRAY)\n",
        "        ret, thresh = cv2.threshold(image_gray, 127, 255, 0)\n",
        "        # RETR_EXTERNAL 옵션으로 숫자의 외각을 기준으로 분리\n",
        "        contours, _ = cv2.findContours(\n",
        "            thresh, cv2.RETR_EXTERNAL, cv2.CHAIN_APPROX_SIMPLE\n",
        "        )\n",
        "\n",
        "        for contour in contours:\n",
        "            # 추출된 이미지 크기가 50 이상인 경우만 실제 문자 데이터인 것으로 파악\n",
        "            area = cv2.contourArea(contour)\n",
        "            if area > 50:\n",
        "                x, y, width, height = cv2.boundingRect(contour)\n",
        "                roi = image_gray[y : y + height, x : x + width]\n",
        "                chars.append((x, roi))\n",
        "                # 전체 문자들을 x 좌표 기준으로 정렬\n",
        "                chars = sorted(chars, key=lambda char: char[0])\n",
        "    return chars"
      ],
      "metadata": {
        "id": "4VTcqVr_4YQ6"
      },
      "execution_count": null,
      "outputs": []
    },
    {
      "cell_type": "code",
      "source": [
        "# 트레이닝 데이터 만들기\n",
        "# 이미지를 (20X20) 크기로 통일 (utils.py)\n",
        "\n",
        "import numpy as np\n",
        "\n",
        "#특정한 이미지를 (20X20) 크기로 Scaling\n",
        "def resize20(image):\n",
        "    resized = cv2.resize(image, (20, 20))\n",
        "    return resized.reshape(-1, 400).astype(np.float32)"
      ],
      "metadata": {
        "id": "SOLVa6Md7u62"
      },
      "execution_count": null,
      "outputs": []
    },
    {
      "cell_type": "code",
      "source": [
        "# 데이터 만들기 (make_train_data.py)\n",
        "\n",
        "import os\n",
        "import cv2\n",
        "import utils\n",
        "\n",
        "# training_data 폴더 생성 및 그 내부에 0, 1, 2, 3, 4, 5, 6, 7, 8, 9, 10(+), 11(-), 12(*) 폴더 생성\n",
        "image = cv2.imread(\"stage6.png\")\n",
        "chars = utils.extract_chars(image)\n",
        "\n",
        "for char in chars:\n",
        "    cv2.imshow('Image', char[1])\n",
        "    input = cv2.waitKey(0)\n",
        "    resized = cv2.resize(char[1], (20, 20))\n",
        "\n",
        "    if 48 <= input <= 57:\n",
        "        name = str(input - 48)\n",
        "        file_count = len(next(os.walk('./training_data/' + name + '/'))[2])\n",
        "        cv2.imwrite('./training_data/' + str(input - 48) + '/' +\n",
        "                    str(file_count + 1) + '.png', resized)\n",
        "    elif input in (ord('a'), ord('b'), ord('c')):\n",
        "        name = str(input - ord('a') + 10)\n",
        "        file_count = len(next(os.walk('./training_data/' + name + '/'))[2])\n",
        "        cv2.imwrite('./training_data/' + name + '/' +\n",
        "                    str(file_count + 1) + '.png', resized)"
      ],
      "metadata": {
        "id": "sm_4-UGe8rTR"
      },
      "execution_count": null,
      "outputs": []
    },
    {
      "cell_type": "code",
      "source": [
        "# KNN 모델 학습하기 (knn_trainer.py)\n",
        "\n",
        "import os\n",
        "import cv2\n",
        "import numpy as np\n",
        "\n",
        "file_names = list(range(0, 13))\n",
        "train = []\n",
        "train_labels = []\n",
        "\n",
        "for file_name in file_names:\n",
        "  path = './training_data/' + str(file_name) + '/'\n",
        "  file_count = len(next(os.walk(path))[2])\n",
        "  for i in range(1, file_count + 1):\n",
        "    img = cv2.imread(path + str(i) + '.png')\n",
        "    gray = cv2.cvtColor(img, cv2.COLOR_BGR2GRAY)\n",
        "    train.append(gray)\n",
        "    train_labels.append(file_name)\n",
        "\n",
        "x = np.array(train)\n",
        "train = x[:, :].reshape(-1, 400).astype(np.float32)\n",
        "train_labels = np.array(train_labels)[:, np.newaxis]\n",
        "\n",
        "print(train.shape)\n",
        "print(train_labels.shape)\n",
        "\n",
        "np.savez(\"trained.npz\", train = train, train_labels = train_labels)"
      ],
      "metadata": {
        "id": "oD5-oON_AnGz"
      },
      "execution_count": null,
      "outputs": []
    },
    {
      "cell_type": "code",
      "source": [
        "# 학습된 모델로 테스트 하기 : 학습된 KNN 모델 불러오기 (run.py)\n",
        "\n",
        "import numpy as np\n",
        "import cv2\n",
        "import utils\n",
        "\n",
        "FILE_NAME = 'trained.npz'\n",
        "\n",
        "# 각 글자의 (1 x 400) 데이터와 정답 (0 ~ 9, +, *)\n",
        "with np.load(FILE_NAME) as data:\n",
        "  train = data['train']\n",
        "  train_labels = data['train_labels']\n",
        "\n",
        "knn = cv2.ml.KNearest_create()\n",
        "knn.train(train, cv2.ml.ROW_SAMPLE, train_labels)\n",
        "\n",
        "def check(test, train, train_labels):\n",
        "  # 가장 가까운 K개의 글자를 찾아 어떤 숫자에 해당하는지 찾는다.\n",
        "  ret, result, neighbours, dist = knn.findNearest(test, k = 1)\n",
        "  return result"
      ],
      "metadata": {
        "id": "yZRblfayDxG-"
      },
      "execution_count": null,
      "outputs": []
    },
    {
      "cell_type": "code",
      "source": [
        "# 테스트 결과 확인하기 (run.py)\n",
        "\n",
        "def get_result(file_name):\n",
        "  image = cv2.imread(file_name)\n",
        "  chars = utils.extract_chars(image)\n",
        "  result_string = \"\"\n",
        "  for char in chars:\n",
        "    matched = check(utils.resize20(char[1]), train, train_labels)\n",
        "    if matched < 10:\n",
        "      result_string += str(int(matched))\n",
        "      continue\n",
        "    if matched == 10:\n",
        "      matched = '+'\n",
        "    elif matched == 11:\n",
        "      matched = '-'\n",
        "    elif matched == 12:\n",
        "      matched = '*'\n",
        "    result_string += matched\n",
        "  return result_string\n",
        "\n",
        "print(get_result(\"stage7.png\"))"
      ],
      "metadata": {
        "id": "Kwb72AoqF0Rq"
      },
      "execution_count": null,
      "outputs": []
    },
    {
      "cell_type": "code",
      "source": [
        "# 해킹 자동화\n",
        "# 수식 정제 (utils.py)\n",
        "\n",
        "import re\n",
        "\n",
        "def remove_first_0(string):\n",
        "  temp = []\n",
        "  for i in string:\n",
        "    if i == '+' or i == '-' or i == '*':\n",
        "      temp.append(i)\n",
        "  split = re.split('\\*|\\+|-', string)\n",
        "  i = 0\n",
        "  temp_count = 0\n",
        "  result = \"\"\n",
        "  for a in split:\n",
        "    a = a.lstrip('0')\n",
        "    if a == '':\n",
        "      a = '0'\n",
        "    result += a\n",
        "    if i < len(split) - 1:\n",
        "      result += temp[temp_count]\n",
        "      temp_count = temp_count + 1\n",
        "    i = i + 1\n",
        "  return result"
      ],
      "metadata": {
        "id": "DMQuW3BPjCmt"
      },
      "execution_count": null,
      "outputs": []
    },
    {
      "cell_type": "code",
      "source": [
        "# 해킹 자동화\n",
        "# 구현 완료 (run.py)\n",
        "\n",
        "import requests\n",
        "import shutil\n",
        "import time\n",
        "\n",
        "host = \"http://127.0.0.1:10000\"\n",
        "url = '/start'\n",
        "\n",
        "# target_images 라는 폴더 생성\n",
        "with requests.Session() as s:\n",
        "  answer = ''\n",
        "  for i in range(0, 100):\n",
        "    start_time = time.time()\n",
        "    params = {'ans': answer}\n",
        "\n",
        "    # 정답을 파라미터에 달아서 전송하여, 이미지 경로를 받아온다.\n",
        "    response = s.post(host + url, params)\n",
        "    print('Server Return: ' + response.text)\n",
        "    if i == 0:\n",
        "      returned = response.text\n",
        "      image_url = host + returned\n",
        "      url = '/check'\n",
        "    else:\n",
        "      returned = response.json()\n",
        "      image_url = host + returned['url']\n",
        "    print('Problem ' + str(i) + ': ' + image_url)\n",
        "\n",
        "    # 특정한 폴더에 이미지 파일을 다운로드\n",
        "    response = s.get(image_url, stream=True)\n",
        "    target_image = './target_images/' + str(i) + '.png'\n",
        "    with open(target_image, 'wb') as out_file:\n",
        "      shutil.copyfileobj(response.raw, out_file)\n",
        "    del response\n",
        "\n",
        "    # 다운로드 받은 이미지 파일을 분석하여 답을 도출\n",
        "    answer_string = get_result(target_image)\n",
        "    print('String: ' + answer_string)\n",
        "    answer_string = utils.remove_first_0(answer_string)\n",
        "    answer = str(eval(answer_string))\n",
        "    print('Answer: ' + answer)\n",
        "    print(\"--- %s seconds ---\" % (time.time() - start_time))"
      ],
      "metadata": {
        "id": "V-NhtkRHm3z6"
      },
      "execution_count": null,
      "outputs": []
    }
  ]
}