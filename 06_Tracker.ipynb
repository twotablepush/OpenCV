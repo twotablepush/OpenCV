{
  "nbformat": 4,
  "nbformat_minor": 0,
  "metadata": {
    "colab": {
      "provenance": [],
      "authorship_tag": "ABX9TyN0P17/GHSXPVL2K4O9HhoP",
      "include_colab_link": true
    },
    "kernelspec": {
      "name": "python3",
      "display_name": "Python 3"
    },
    "language_info": {
      "name": "python"
    }
  },
  "cells": [
    {
      "cell_type": "markdown",
      "metadata": {
        "id": "view-in-github",
        "colab_type": "text"
      },
      "source": [
        "<a href=\"https://colab.research.google.com/github/twotablepush/OpenCV/blob/main/06_Tracker.ipynb\" target=\"_parent\"><img src=\"https://colab.research.google.com/assets/colab-badge.svg\" alt=\"Open In Colab\"/></a>"
      ]
    },
    {
      "cell_type": "markdown",
      "source": [
        "## Tracker 사용 방법\n",
        "cv2.createTrackbar(track_bar_name, window_name, value, count, on_change)\n",
        "- value : 초기 값\n",
        "- count : Max값 (Min = 0)\n",
        "- on_change : 값이 변경될 떄 호출되는 Callback 함수\n",
        "\n"
      ],
      "metadata": {
        "id": "t4Zx4O8jvEF5"
      }
    },
    {
      "cell_type": "code",
      "execution_count": 1,
      "metadata": {
        "id": "8d8eD6G2u8tR"
      },
      "outputs": [],
      "source": [
        "import cv2\n",
        "import numpy as np\n",
        "\n",
        "def change_color(x):\n",
        "  r = cv2.getTrackbarPos('R', 'image')\n",
        "  g = cv2.getTrackbarPos('G', 'image')\n",
        "  b = cv2.getTrackbarPos('B', 'image')\n",
        "  image[:] = [b, g, r]\n",
        "  cv2.imshow('image')\n",
        "\n",
        "  image = np.zeros((600, 400, 3), np.uint8)\n",
        "  cv2.namedWindow('image')\n",
        "\n",
        "  cv2.createTrackbar('R', 'image', 0, 255, change_color)\n",
        "  cv2.createTrackbar('G', 'image', 0, 255, change_color)\n",
        "  cv2.createTrackbar('B', 'image', 0, 255, change_color)\n",
        "\n",
        "  cv2.imshow('image', image)\n",
        "  cv2.waitKey(0)"
      ]
    }
  ]
}