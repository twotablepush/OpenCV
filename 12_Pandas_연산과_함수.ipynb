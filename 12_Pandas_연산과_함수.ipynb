{
  "nbformat": 4,
  "nbformat_minor": 0,
  "metadata": {
    "colab": {
      "provenance": [],
      "authorship_tag": "ABX9TyNC8iSSWmoK85ah/Pkw5Seo",
      "include_colab_link": true
    },
    "kernelspec": {
      "name": "python3",
      "display_name": "Python 3"
    },
    "language_info": {
      "name": "python"
    }
  },
  "cells": [
    {
      "cell_type": "markdown",
      "metadata": {
        "id": "view-in-github",
        "colab_type": "text"
      },
      "source": [
        "<a href=\"https://colab.research.google.com/github/twotablepush/OpenCV/blob/main/12_Pandas_%EC%97%B0%EC%82%B0%EA%B3%BC_%ED%95%A8%EC%88%98.ipynb\" target=\"_parent\"><img src=\"https://colab.research.google.com/assets/colab-badge.svg\" alt=\"Open In Colab\"/></a>"
      ]
    },
    {
      "cell_type": "code",
      "execution_count": null,
      "metadata": {
        "colab": {
          "base_uri": "https://localhost:8080/"
        },
        "id": "ra72ypzlZKk5",
        "outputId": "b7c54d73-dd9e-4987-bc00-93ab8a0c1dae"
      },
      "outputs": [
        {
          "output_type": "stream",
          "name": "stdout",
          "text": [
            "       word  price  frequency\n",
            "Apple    사과    300        3.0\n",
            "Banana  바나나    200        5.0\n",
            "Carrot   당근    100        NaN\n",
            "Durian  두리안    500        2.0\n",
            "        word  price  frequency\n",
            "Apple   True   True       True\n",
            "Banana  True   True       True\n",
            "Carrot  True   True      False\n",
            "Durian  True   True       True\n",
            "         word  price  frequency\n",
            "Apple   False  False      False\n",
            "Banana  False  False      False\n",
            "Carrot  False  False       True\n",
            "Durian  False  False      False\n",
            "       word  price frequency\n",
            "Apple    사과    300       3.0\n",
            "Banana  바나나    200       5.0\n",
            "Carrot   당근    100    데이터 없음\n",
            "Durian  두리안    500       2.0\n"
          ]
        }
      ],
      "source": [
        "# 데이터 프레임의 Null 여부 확인\n",
        "\n",
        "import pandas as pd\n",
        "import numpy as np\n",
        "\n",
        "word_dict = {\n",
        "    'Apple' : '사과',\n",
        "    'Banana' : '바나나',\n",
        "    'Carrot' : '당근',\n",
        "    'Durian' : '두리안'\n",
        "}\n",
        "\n",
        "price_dict = {\n",
        "    'Apple' : 300,\n",
        "    'Banana' : 200,\n",
        "    'Carrot' : 100,\n",
        "    'Durian' : 500\n",
        "}\n",
        "\n",
        "frequency_dict = {\n",
        "    'Apple' : 3,\n",
        "    'Banana' : 5,\n",
        "    'Carrot' : np.nan, # not a number or null\n",
        "    'Durian' : 2\n",
        "}\n",
        "\n",
        "word = pd.Series(word_dict)\n",
        "price = pd.Series(price_dict)\n",
        "frequency = pd.Series(frequency_dict)\n",
        "\n",
        "summary = pd.DataFrame({\n",
        "    'word' : word,\n",
        "    'price' : price,\n",
        "    'frequency' : frequency\n",
        "})\n",
        "\n",
        "print(summary)\n",
        "print(summary.notnull()) # null 값이 아닌 데이터만 True\n",
        "print(summary.isnull()) # null 값만 True\n",
        "summary['frequency'] = summary['frequency'].fillna('데이터 없음')\n",
        "print(summary)"
      ]
    },
    {
      "cell_type": "code",
      "source": [
        "# Series 자료형의 연산\n",
        "\n",
        "import pandas as pd\n",
        "\n",
        "array1 = pd.Series([1, 2, 3], index = ['A', 'B', 'C'])\n",
        "array2 = pd.Series([4, 5, 6], index = ['B', 'C', 'D'])\n",
        "\n",
        "array = array1.add(array2, fill_value = 0)\n",
        "print(array)"
      ],
      "metadata": {
        "colab": {
          "base_uri": "https://localhost:8080/"
        },
        "id": "SehCecNbccAl",
        "outputId": "e0941b61-a8eb-4a26-8bab-3efaa0e236d1"
      },
      "execution_count": null,
      "outputs": [
        {
          "output_type": "stream",
          "name": "stdout",
          "text": [
            "A    1.0\n",
            "B    6.0\n",
            "C    8.0\n",
            "D    6.0\n",
            "dtype: float64\n"
          ]
        }
      ]
    },
    {
      "cell_type": "code",
      "source": [
        "# 데이터 프레임 자료형의 연산\n",
        "\n",
        "import pandas as pd\n",
        "\n",
        "array1 = pd.DataFrame([[1, 2], [3, 4]], index = ['A', 'B'])\n",
        "array2 = pd.DataFrame([[1, 2, 3], [4, 5, 6], [7, 8, 9]], index = ['B', 'C', 'D'])\n",
        "\n",
        "print(array1)\n",
        "print(array2)\n",
        "\n",
        "print(array1.add(array2, fill_value = 0))\n",
        "print(array)"
      ],
      "metadata": {
        "colab": {
          "base_uri": "https://localhost:8080/"
        },
        "id": "b8lqWDZhc7iL",
        "outputId": "75287b36-07db-47bf-ac5e-a44a99e61234"
      },
      "execution_count": null,
      "outputs": [
        {
          "output_type": "stream",
          "name": "stdout",
          "text": [
            "   0  1\n",
            "A  1  2\n",
            "B  3  4\n",
            "   0  1  2\n",
            "B  1  2  3\n",
            "C  4  5  6\n",
            "D  7  8  9\n",
            "     0    1    2\n",
            "A  1.0  2.0  NaN\n",
            "B  4.0  6.0  3.0\n",
            "C  4.0  5.0  6.0\n",
            "D  7.0  8.0  9.0\n",
            "A    1.0\n",
            "B    6.0\n",
            "C    8.0\n",
            "D    6.0\n",
            "dtype: float64\n"
          ]
        }
      ]
    },
    {
      "cell_type": "code",
      "source": [
        "# 데이터 프레임 집계 함수\n",
        "\n",
        "import pandas as pd\n",
        "\n",
        "array1 = pd.DataFrame([[1, 2], [3, 4]], index = ['A', 'B'])\n",
        "array2 = pd.DataFrame([[1, 2, 3], [4, 5, 6], [7, 8, 9]], index = ['B', 'C', 'D'])\n",
        "\n",
        "array = array1.add(array2, fill_value = 0)\n",
        "print(array)\n",
        "print(\"컬럼 1의 합:\", array[1].sum())\n",
        "print(array.sum())"
      ],
      "metadata": {
        "colab": {
          "base_uri": "https://localhost:8080/"
        },
        "id": "Ba4Z7hMbgOT0",
        "outputId": "d3bf7fb8-086e-476a-88af-4de21521b91c"
      },
      "execution_count": null,
      "outputs": [
        {
          "output_type": "stream",
          "name": "stdout",
          "text": [
            "     0    1    2\n",
            "A  1.0  2.0  NaN\n",
            "B  4.0  6.0  3.0\n",
            "C  4.0  5.0  6.0\n",
            "D  7.0  8.0  9.0\n",
            "컬럼 1의 합: 21.0\n",
            "0    16.0\n",
            "1    21.0\n",
            "2    18.0\n",
            "dtype: float64\n"
          ]
        }
      ]
    },
    {
      "cell_type": "code",
      "source": [
        "# 데이터 프레임 정렬 함수\n",
        "\n",
        "import pandas as pd\n",
        "import numpy as np\n",
        "\n",
        "word_dict = {\n",
        "    'Apple' : '사과',\n",
        "    'Banana' : '바나나',\n",
        "    'Carrot' : '당근',\n",
        "    'Durian' : '두리안'\n",
        "}\n",
        "\n",
        "price_dict = {\n",
        "    'Apple' : 300,\n",
        "    'Banana' : 200,\n",
        "    'Carrot' : 100,\n",
        "    'Durian' : 500\n",
        "}\n",
        "\n",
        "frequency_dict = {\n",
        "    'Apple' : 3,\n",
        "    'Banana' : 5,\n",
        "    'Carrot' : 7,\n",
        "    'Durian' : 2\n",
        "}\n",
        "\n",
        "word = pd.Series(word_dict)\n",
        "price = pd.Series(price_dict)\n",
        "frequency = pd.Series(frequency_dict)\n",
        "\n",
        "summary = pd.DataFrame({\n",
        "    'word' : word,\n",
        "    'price' : price,\n",
        "    'frequency' : frequency\n",
        "})\n",
        "\n",
        "print(summary)\n",
        "summary = summary.sort_values('frequency', ascending = False) # 갯수를 내림차순으로 정렬\n",
        "print(summary)"
      ],
      "metadata": {
        "colab": {
          "base_uri": "https://localhost:8080/"
        },
        "id": "asR4-3GyhhkC",
        "outputId": "7c9e24f9-5409-4ece-d6b8-3d807ada6783"
      },
      "execution_count": null,
      "outputs": [
        {
          "output_type": "stream",
          "name": "stdout",
          "text": [
            "       word  price  frequency\n",
            "Apple    사과    300          3\n",
            "Banana  바나나    200          5\n",
            "Carrot   당근    100          7\n",
            "Durian  두리안    500          2\n",
            "       word  price  frequency\n",
            "Carrot   당근    100          7\n",
            "Banana  바나나    200          5\n",
            "Apple    사과    300          3\n",
            "Durian  두리안    500          2\n"
          ]
        }
      ]
    }
  ]
}