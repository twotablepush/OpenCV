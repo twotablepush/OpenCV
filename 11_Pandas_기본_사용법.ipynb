{
  "nbformat": 4,
  "nbformat_minor": 0,
  "metadata": {
    "colab": {
      "provenance": [],
      "authorship_tag": "ABX9TyOvRayo0jBgYnZq+lLymlpJ",
      "include_colab_link": true
    },
    "kernelspec": {
      "name": "python3",
      "display_name": "Python 3"
    },
    "language_info": {
      "name": "python"
    }
  },
  "cells": [
    {
      "cell_type": "markdown",
      "metadata": {
        "id": "view-in-github",
        "colab_type": "text"
      },
      "source": [
        "<a href=\"https://colab.research.google.com/github/twotablepush/OpenCV/blob/main/11_Pandas_%EA%B8%B0%EB%B3%B8_%EC%82%AC%EC%9A%A9%EB%B2%95.ipynb\" target=\"_parent\"><img src=\"https://colab.research.google.com/assets/colab-badge.svg\" alt=\"Open In Colab\"/></a>"
      ]
    },
    {
      "cell_type": "markdown",
      "source": [
        "\n",
        "# Pandas 란?\n",
        "- 데이터를 효과적으로 처리하고, 보여줄 수 있도록 도와주는 라이브러리\n",
        "- Numpy와 함께 사용되어 다양한 연계적인 기능을 제공\n",
        "- Index에 따라 데이터를 나열하므로 사전 자료형에 가깝다.\n",
        "- Series를 기본적인 자료형으로 사용\n",
        "- Excel과 거의 똑같다.\n",
        "\n",
        "## Series 란?\n",
        "- Series는 인덱스(Index)와 값(value)으로 구성\n"
      ],
      "metadata": {
        "id": "2A_IdrI1MA_s"
      }
    },
    {
      "cell_type": "code",
      "source": [
        "# 시리즈 사용해보기\n",
        "\n",
        "import pandas as pd\n",
        "\n",
        "array = pd.Series(['사과', '바나나', '당근'], index=['a', 'b', 'c'])\n",
        "\n",
        "print(array)\n",
        "print(array['a'])"
      ],
      "metadata": {
        "colab": {
          "base_uri": "https://localhost:8080/"
        },
        "id": "vHxd8_JJNTU6",
        "outputId": "e2307139-22a7-49dd-bb35-d8327eaf9490"
      },
      "execution_count": null,
      "outputs": [
        {
          "output_type": "stream",
          "name": "stdout",
          "text": [
            "a     사과\n",
            "b    바나나\n",
            "c     당근\n",
            "dtype: object\n",
            "사과\n"
          ]
        }
      ]
    },
    {
      "cell_type": "code",
      "source": [
        "import pandas as pd\n",
        "\n",
        "data = {\n",
        "    'a': '사과',\n",
        "    'b': '바나나',\n",
        "    'c': '당근'\n",
        "}\n",
        "\n",
        "array = pd.Series(data) # Dictionary 자료형을 Series로 바꾸기\n",
        "print(array['a'])"
      ],
      "metadata": {
        "colab": {
          "base_uri": "https://localhost:8080/"
        },
        "id": "NUoguKwQNzcR",
        "outputId": "998a6319-deff-4baa-c592-c04c3cf0287b"
      },
      "execution_count": null,
      "outputs": [
        {
          "output_type": "stream",
          "name": "stdout",
          "text": [
            "사과\n"
          ]
        }
      ]
    },
    {
      "cell_type": "markdown",
      "source": [
        "## 데이터 프레임이란?\n",
        "- 다수의 Series를 모아 처리하기 위한 목적으로 사용\n",
        "- 표 형태로 데이터를 손쉽게 출력하고자 할 때 사용할 수 있다."
      ],
      "metadata": {
        "id": "snL8cLBVON35"
      }
    },
    {
      "cell_type": "code",
      "source": [
        "import pandas as pd\n",
        "\n",
        "word_dict = {\n",
        "    'Apple' : '사과',\n",
        "    'Banana' : '바나나',\n",
        "    'Carrot' : '당근'\n",
        "}\n",
        "\n",
        "frequency_dict = {\n",
        "    'Apple' : 3,\n",
        "    'Banana' : 5,\n",
        "    'Carrot' : 7\n",
        "}\n",
        "\n",
        "word = pd.Series(word_dict)\n",
        "frequency = pd.Series(frequency_dict)\n",
        "\n",
        "# 이름(Name), 값(Values)\n",
        "summary = pd.DataFrame({\n",
        "    'word' : word,\n",
        "    'frequency' : frequency\n",
        "})\n",
        "\n",
        "print(summary)"
      ],
      "metadata": {
        "colab": {
          "base_uri": "https://localhost:8080/"
        },
        "id": "xJXAoIsrOM1O",
        "outputId": "e6bc0c72-08be-4073-bf3b-dc822059d9a8"
      },
      "execution_count": null,
      "outputs": [
        {
          "output_type": "stream",
          "name": "stdout",
          "text": [
            "       word  frequency\n",
            "Apple    사과          3\n",
            "Banana  바나나          5\n",
            "Carrot   당근          7\n"
          ]
        }
      ]
    },
    {
      "cell_type": "markdown",
      "source": [
        "## Series의 연산\n",
        "- Series를 서로 연산하여 새로운 Series를 만들 수 있다."
      ],
      "metadata": {
        "id": "36ZL8mjZPwgr"
      }
    },
    {
      "cell_type": "code",
      "source": [
        "import pandas as pd\n",
        "\n",
        "word_dict = {\n",
        "    'Apple' : '사과',\n",
        "    'Banana' : '바나나',\n",
        "    'Carrot' : '당근',\n",
        "}\n",
        "\n",
        "price_dict = {\n",
        "    'Apple' : 300,\n",
        "    'Banana' : 400,\n",
        "    'Carrot' : 350\n",
        "}\n",
        "\n",
        "frequency_dict = {\n",
        "    'Apple' : 3,\n",
        "    'Banana' : 5,\n",
        "    'Carrot' : 7\n",
        "}\n",
        "\n",
        "word = pd.Series(word_dict)\n",
        "price = pd.Series(price_dict)\n",
        "frequency = pd.Series(frequency_dict)\n",
        "\n",
        "summary = pd.DataFrame({\n",
        "    'word' : word,\n",
        "    'price' : price,\n",
        "    'frequency' : frequency\n",
        "})\n",
        "\n",
        "amount = summary['price'] * summary['frequency']\n",
        "summary['amount'] = amount\n",
        "\n",
        "print(summary)"
      ],
      "metadata": {
        "colab": {
          "base_uri": "https://localhost:8080/"
        },
        "id": "cSaM9oRdP8qV",
        "outputId": "a5307983-7a0b-4d05-8694-311e59087123"
      },
      "execution_count": null,
      "outputs": [
        {
          "output_type": "stream",
          "name": "stdout",
          "text": [
            "       word  price  frequency  amount\n",
            "Apple    사과    300          3     900\n",
            "Banana  바나나    400          5    2000\n",
            "Carrot   당근    350          7    2450\n"
          ]
        }
      ]
    },
    {
      "cell_type": "code",
      "source": [
        "# 데이터 프레임의 슬라이싱\n",
        "\n",
        "import pandas as pd\n",
        "\n",
        "word_dict = {\n",
        "    'Apple' : '사과',\n",
        "    'Banana' : '바나나',\n",
        "    'Carrot' : '당근',\n",
        "    'Durian' : '두리안'\n",
        "}\n",
        "\n",
        "price_dict = {\n",
        "    'Apple' : 300,\n",
        "    'Banana' : 200,\n",
        "    'Carrot' : 100,\n",
        "    'Durian' : 500\n",
        "}\n",
        "\n",
        "frequency_dict = {\n",
        "    'Apple' : 3,\n",
        "    'Banana' : 5,\n",
        "    'Carrot' : 7,\n",
        "    'Durian' : 2\n",
        "}\n",
        "\n",
        "word = pd.Series(word_dict)\n",
        "price = pd.Series(price_dict)\n",
        "frequency = pd.Series(frequency_dict)\n",
        "\n",
        "summary = pd.DataFrame({\n",
        "    'word' : word,\n",
        "    'price' : price,\n",
        "    'frequency' : frequency\n",
        "})\n",
        "\n",
        "print(summary)\n",
        "\n",
        "# 이름을 기준으로 슬라이싱\n",
        "print(summary.loc['Banana' : 'Carrot', 'frequency' :])\n",
        "\n",
        "# 인덱스를 기준으로 슬라이싱\n",
        "print(summary.iloc[1 : 3, 2 :])"
      ],
      "metadata": {
        "colab": {
          "base_uri": "https://localhost:8080/"
        },
        "id": "hvgJYFjKSETY",
        "outputId": "ab805861-ec2b-4533-db9f-9f1728b3ef4d"
      },
      "execution_count": null,
      "outputs": [
        {
          "output_type": "stream",
          "name": "stdout",
          "text": [
            "       word  price  frequency\n",
            "Apple    사과    300          3\n",
            "Banana  바나나    200          5\n",
            "Carrot   당근    100          7\n",
            "Durian  두리안    500          2\n",
            "        frequency\n",
            "Banana          5\n",
            "Carrot          7\n",
            "        frequency\n",
            "Banana          5\n",
            "Carrot          7\n"
          ]
        }
      ]
    },
    {
      "cell_type": "code",
      "source": [
        "# 데이터 프레임의 연산\n",
        "\n",
        "import pandas as pd\n",
        "\n",
        "word_dict = {\n",
        "    'Apple' : '사과',\n",
        "    'Banana' : '바나나',\n",
        "    'Carrot' : '당근',\n",
        "    'Durian' : '두리안'\n",
        "}\n",
        "\n",
        "price_dict = {\n",
        "    'Apple' : 300,\n",
        "    'Banana' : 200,\n",
        "    'Carrot' : 100,\n",
        "    'Durian' : 500\n",
        "}\n",
        "\n",
        "frequency_dict = {\n",
        "    'Apple' : 3,\n",
        "    'Banana' : 5,\n",
        "    'Carrot' : 7,\n",
        "    'Durian' : 2\n",
        "}\n",
        "\n",
        "word = pd.Series(word_dict)\n",
        "price = pd.Series(price_dict)\n",
        "frequency = pd.Series(frequency_dict)\n",
        "\n",
        "summary = pd.DataFrame({\n",
        "    'word' : word,\n",
        "    'price' : price,\n",
        "    'frequency' : frequency\n",
        "})\n",
        "\n",
        "print(summary)\n",
        "\n",
        "summary.loc['Apple', 'price'] = 100 # 데이터 변경\n",
        "summary.loc['Mango'] = ['망고', 400, 10] # 새 데이터 삽입\n",
        "\n",
        "print(summary)"
      ],
      "metadata": {
        "colab": {
          "base_uri": "https://localhost:8080/"
        },
        "id": "Gc1mvIL_W_4X",
        "outputId": "ef94c378-4bba-4cd8-92bd-e9e91ec1c59d"
      },
      "execution_count": null,
      "outputs": [
        {
          "output_type": "stream",
          "name": "stdout",
          "text": [
            "       word  price  frequency\n",
            "Apple    사과    300          3\n",
            "Banana  바나나    200          5\n",
            "Carrot   당근    100          7\n",
            "Durian  두리안    500          2\n",
            "       word  price  frequency\n",
            "Apple    사과    100          3\n",
            "Banana  바나나    200          5\n",
            "Carrot   당근    100          7\n",
            "Durian  두리안    500          2\n",
            "Mango    망고    400         10\n"
          ]
        }
      ]
    },
    {
      "cell_type": "code",
      "source": [
        "# 엑셀로 내보내기 / 불러오기\n",
        "\n",
        "import pandas as pd\n",
        "\n",
        "word_dict = {\n",
        "    'Apple' : '사과',\n",
        "    'Banana' : '바나나',\n",
        "    'Carrot' : '당근'\n",
        "}\n",
        "\n",
        "frequency_dict = {\n",
        "    'Apple' : 3,\n",
        "    'Banana' : 5,\n",
        "    'Carrot' : 7\n",
        "}\n",
        "\n",
        "word = pd.Series(word_dict)\n",
        "frequency = pd.Series(frequency_dict)\n",
        "\n",
        "# 이름(Name), 값(Values)\n",
        "summary = pd.DataFrame({\n",
        "    'word' : word,\n",
        "    'frequency' : frequency\n",
        "})\n",
        "\n",
        "summary.to_csv('summary.csv', encoding='utf-8-sig') # 내보내기\n",
        "saved = pd.read_csv('summary.csv', index_col=0) # 불러오기\n",
        "print(summary)"
      ],
      "metadata": {
        "colab": {
          "base_uri": "https://localhost:8080/"
        },
        "id": "-3QUiDZWXm3y",
        "outputId": "f80b3e37-d02e-4d32-adfc-7ad270755af9"
      },
      "execution_count": null,
      "outputs": [
        {
          "output_type": "stream",
          "name": "stdout",
          "text": [
            "       word  frequency\n",
            "Apple    사과          3\n",
            "Banana  바나나          5\n",
            "Carrot   당근          7\n"
          ]
        }
      ]
    }
  ]
}