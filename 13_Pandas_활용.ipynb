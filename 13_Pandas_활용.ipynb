{
  "nbformat": 4,
  "nbformat_minor": 0,
  "metadata": {
    "colab": {
      "provenance": [],
      "authorship_tag": "ABX9TyMQOH4JzPIGtqVfudbYBG2m",
      "include_colab_link": true
    },
    "kernelspec": {
      "name": "python3",
      "display_name": "Python 3"
    },
    "language_info": {
      "name": "python"
    }
  },
  "cells": [
    {
      "cell_type": "markdown",
      "metadata": {
        "id": "view-in-github",
        "colab_type": "text"
      },
      "source": [
        "<a href=\"https://colab.research.google.com/github/twotablepush/OpenCV/blob/main/13_Pandas_%ED%99%9C%EC%9A%A9.ipynb\" target=\"_parent\"><img src=\"https://colab.research.google.com/assets/colab-badge.svg\" alt=\"Open In Colab\"/></a>"
      ]
    },
    {
      "cell_type": "code",
      "execution_count": null,
      "metadata": {
        "colab": {
          "base_uri": "https://localhost:8080/"
        },
        "id": "OH0U3pHyGnOW",
        "outputId": "2b6c5e99-6bac-489a-c5c4-80c11565b3eb"
      },
      "outputs": [
        {
          "output_type": "stream",
          "name": "stdout",
          "text": [
            "   A  B\n",
            "0  1  2\n",
            "1  5  1\n",
            "0    True\n",
            "1    True\n",
            "Name: A, dtype: bool\n",
            "   A  B\n",
            "0  1  2\n",
            "1  5  1\n"
          ]
        }
      ],
      "source": [
        "# 데이터 프레임 마스킹\n",
        "\n",
        "import numpy as np\n",
        "import pandas as pd\n",
        "\n",
        "df = pd.DataFrame(np.random.randint(1, 10, (2, 2)), index = [0, 1], columns = [\"A\", \"B\"])\n",
        "# 데이터 프레임 출력\n",
        "print(df)\n",
        "# 컬럼 A의 각 원소가 5보다 작거나 같은지 출력\n",
        "print(df[\"A\"] <= 5)\n",
        "# 컬럼 A의 원소가 5보다 작고, 컬럼 B의 원소가 8보다 작은 행 추출\n",
        "print(df.query(\"A <= 5 and B <= 8\"))"
      ]
    },
    {
      "cell_type": "code",
      "source": [
        "# 데이터 프레임 개별 연산\n",
        "\n",
        "import pandas as pd\n",
        "\n",
        "df = pd.DataFrame([[1, 2, 3, 4], [1, 2, 3, 4]], index = [0, 1], columns = [\"A\", \"B\", \"C\", \"D\"])\n",
        "print(df)\n",
        "\n",
        "df = df.apply(lambda x : x + 1)\n",
        "print(df)\n",
        "\n",
        "def addOne(x):\n",
        "  return x + 1\n",
        "\n",
        "df = df.apply(addOne)\n",
        "print(df)"
      ],
      "metadata": {
        "colab": {
          "base_uri": "https://localhost:8080/"
        },
        "id": "TdMdvJVtIIhK",
        "outputId": "5986ed29-22c0-4def-eebc-fff151754ade"
      },
      "execution_count": null,
      "outputs": [
        {
          "output_type": "stream",
          "name": "stdout",
          "text": [
            "   A  B  C  D\n",
            "0  1  2  3  4\n",
            "1  1  2  3  4\n",
            "   A  B  C  D\n",
            "0  2  3  4  5\n",
            "1  2  3  4  5\n",
            "   A  B  C  D\n",
            "0  3  4  5  6\n",
            "1  3  4  5  6\n"
          ]
        }
      ]
    },
    {
      "cell_type": "code",
      "source": [
        "# 데이터 프레임 특정 데이터를 찾아 변경\n",
        "\n",
        "import pandas as pd\n",
        "\n",
        "df = pd.DataFrame([\n",
        "    ['Apple', 'Apple', 'Carrot', 'Banana'],\n",
        "    ['Durian', 'Banana', 'Apple', 'Carrot']],\n",
        "                  index = [0, 1],\n",
        "                  columns = [\"A\", \"B\", \"C\", \"D\"]\n",
        ")\n",
        "\n",
        "print(df)\n",
        "df = df.replace({\"Apple\" : \"Airport\"})\n",
        "print(df)"
      ],
      "metadata": {
        "colab": {
          "base_uri": "https://localhost:8080/"
        },
        "id": "-WJP89hVJOJC",
        "outputId": "19b53cf3-abeb-44f1-e9d1-22ebd6540e9b"
      },
      "execution_count": null,
      "outputs": [
        {
          "output_type": "stream",
          "name": "stdout",
          "text": [
            "        A       B       C       D\n",
            "0   Apple   Apple  Carrot  Banana\n",
            "1  Durian  Banana   Apple  Carrot\n",
            "         A        B        C       D\n",
            "0  Airport  Airport   Carrot  Banana\n",
            "1   Durian   Banana  Airport  Carrot\n"
          ]
        }
      ]
    },
    {
      "cell_type": "code",
      "source": [
        "# 데이터 프레임 그룹화\n",
        "\n",
        "import pandas as pd\n",
        "\n",
        "df = pd.DataFrame([\n",
        "    ['Apple', 7, 'Fruit'],\n",
        "    ['Banana', 3, 'Fruit'],\n",
        "    ['Beef', 5, 'Meal'],\n",
        "    ['Kimchi', 4, 'Meal']],\n",
        "    columns = [\"Name\", \"Frequency\", \"Type\"])\n",
        "\n",
        "print(df)\n",
        "print(df.groupby(['Type']).sum())"
      ],
      "metadata": {
        "colab": {
          "base_uri": "https://localhost:8080/"
        },
        "id": "BrGHm07cKs45",
        "outputId": "1da76772-c312-4bdd-d6e4-0ce0a0fcb7a2"
      },
      "execution_count": null,
      "outputs": [
        {
          "output_type": "stream",
          "name": "stdout",
          "text": [
            "     Name  Frequency   Type\n",
            "0   Apple          7  Fruit\n",
            "1  Banana          3  Fruit\n",
            "2    Beef          5   Meal\n",
            "3  Kimchi          4   Meal\n",
            "              Name  Frequency\n",
            "Type                         \n",
            "Fruit  AppleBanana         10\n",
            "Meal    BeefKimchi          9\n"
          ]
        }
      ]
    },
    {
      "cell_type": "code",
      "source": [
        "import numpy as np\n",
        "import pandas as pd\n",
        "\n",
        "df = pd.DataFrame([\n",
        "    ['Apple', 7, 500, 'Fruit'],\n",
        "    ['Banana', 3, 600, 'Fruit'],\n",
        "    ['Beef', 5, 2000, 'Meal'],\n",
        "    ['Kimchi', 4, 800, 'Meal']],\n",
        "    columns = [\"Name\", \"Frequency\", \"Price\", \"Type\"])\n",
        "\n",
        "def my_filter(data):\n",
        "  return data[\"Frequency\"].mean() >= 5\n",
        "\n",
        "print(df)\n",
        "df = df.groupby(\"Type\").filter(my_filter)\n",
        "print(df)"
      ],
      "metadata": {
        "colab": {
          "base_uri": "https://localhost:8080/"
        },
        "id": "6dOLB4oQLaXi",
        "outputId": "f5748390-345c-4ec1-85e3-f8aee6ffb7dd"
      },
      "execution_count": null,
      "outputs": [
        {
          "output_type": "stream",
          "name": "stdout",
          "text": [
            "     Name  Frequency  Price   Type\n",
            "0   Apple          7    500  Fruit\n",
            "1  Banana          3    600  Fruit\n",
            "2    Beef          5   2000   Meal\n",
            "3  Kimchi          4    800   Meal\n",
            "     Name  Frequency  Price   Type\n",
            "0   Apple          7    500  Fruit\n",
            "1  Banana          3    600  Fruit\n"
          ]
        }
      ]
    },
    {
      "cell_type": "code",
      "source": [
        "import pandas as pd\n",
        "\n",
        "df = pd.DataFrame([\n",
        "    ['Apple', 7, 500, 'Fruit'],\n",
        "    ['Banana', 3, 600, 'Fruit'],\n",
        "    ['Beef', 5, 2000, 'Meal'],\n",
        "    ['Kimchi', 4, 800, 'Meal']],\n",
        "    columns = [\"Name\", \"Frequency\", \"Price\", \"Type\"])\n",
        "\n",
        "df = df.groupby(\"Type\").get_group(\"Fruit\")\n",
        "print(df)"
      ],
      "metadata": {
        "colab": {
          "base_uri": "https://localhost:8080/"
        },
        "id": "w-2zvBd_jxEL",
        "outputId": "66bc69bc-3d9b-49cc-957b-c2da006420a3"
      },
      "execution_count": null,
      "outputs": [
        {
          "output_type": "stream",
          "name": "stdout",
          "text": [
            "     Name  Frequency  Price   Type\n",
            "0   Apple          7    500  Fruit\n",
            "1  Banana          3    600  Fruit\n"
          ]
        }
      ]
    },
    {
      "cell_type": "code",
      "source": [
        "import numpy as np\n",
        "import pandas as pd\n",
        "\n",
        "df = pd.DataFrame(\n",
        "    np.random.randint(1, 10, (4, 4)),\n",
        "    index = [['1차', '1차', '2차', '2차'], ['공격', '수비', '공격', '수비']],\n",
        "    columns = ['1회', '2회', '3회', '4회']\n",
        ")\n",
        "\n",
        "print(df)\n",
        "print(df[['1회', '2회']].loc['2차'])"
      ],
      "metadata": {
        "colab": {
          "base_uri": "https://localhost:8080/"
        },
        "id": "vBajwgw5j_in",
        "outputId": "97b47f15-60a8-402a-bfda-8cdadfea3dab"
      },
      "execution_count": null,
      "outputs": [
        {
          "output_type": "stream",
          "name": "stdout",
          "text": [
            "       1회  2회  3회  4회\n",
            "1차 공격   8   8   5   3\n",
            "   수비   4   3   7   6\n",
            "2차 공격   2   2   6   1\n",
            "   수비   4   4   5   5\n",
            "    1회  2회\n",
            "공격   2   2\n",
            "수비   4   4\n"
          ]
        }
      ]
    },
    {
      "cell_type": "code",
      "source": [
        "# 피벗 테이블의 기초\n",
        "\n",
        "import numpy as np\n",
        "import pandas as pd\n",
        "\n",
        "df = pd.DataFrame([\n",
        "    ['Apple', 7, 500, 'Fruit'],\n",
        "    ['Banana', 3, 600, 'Fruit'],\n",
        "    ['Beef', 5, 2000, 'Meal'],\n",
        "    ['Kimchi', 4, 800, 'Meal']],\n",
        "    columns = [\"Name\", \"Frequency\", \"Price\", \"Type\"])\n",
        "\n",
        "print(df)\n",
        "df = df.pivot_table(\n",
        "    index = \"Price\", columns = \"Type\", values = \"Frequency\",\n",
        "    aggfunc = np.max\n",
        ")\n",
        "print(df)"
      ],
      "metadata": {
        "colab": {
          "base_uri": "https://localhost:8080/"
        },
        "id": "YN5JvoSclvDi",
        "outputId": "144b4d60-410e-42e5-972a-2f63266b765b"
      },
      "execution_count": null,
      "outputs": [
        {
          "output_type": "stream",
          "name": "stdout",
          "text": [
            "     Name  Frequency  Price   Type\n",
            "0   Apple          7    500  Fruit\n",
            "1  Banana          3    600  Fruit\n",
            "2    Beef          5   2000   Meal\n",
            "3  Kimchi          4    800   Meal\n",
            "Type   Fruit  Meal\n",
            "Price             \n",
            "500      7.0   NaN\n",
            "600      3.0   NaN\n",
            "800      NaN   4.0\n",
            "2000     NaN   5.0\n"
          ]
        },
        {
          "output_type": "stream",
          "name": "stderr",
          "text": [
            "<ipython-input-10-2e0ce2078184>:14: FutureWarning: The provided callable <function max at 0x7fea9cd1f490> is currently using DataFrameGroupBy.max. In a future version of pandas, the provided callable will be used directly. To keep current behavior pass the string \"max\" instead.\n",
            "  df = df.pivot_table(\n"
          ]
        }
      ]
    }
  ]
}